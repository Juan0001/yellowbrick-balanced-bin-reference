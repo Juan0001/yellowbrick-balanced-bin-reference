{
 "cells": [
  {
   "cell_type": "code",
   "execution_count": 1,
   "metadata": {},
   "outputs": [],
   "source": [
    "# yellowbrick.features.histogram\n",
    "# Implementations of histogram with vertical lines to help with balanced binning.\n",
    "#\n",
    "# Author:   Juan L. Kehoe (juanluo2008@gmail.com)\n",
    "# Created:  Tue Mar 13 19:50:54 2018 -0400\n",
    "#\n",
    "# Copyright (C) 2018 District Data Labs\n",
    "# For license information, see LICENSE.txt\n",
    "#\n",
    "# ID: histogram.py\n",
    "\n",
    "\"\"\"\n",
    "Implements histogram with vertical lines to help with balanced binning.\n",
    "\"\"\"\n",
    "\n",
    "##########################################################################\n",
    "## Imports\n",
    "##########################################################################\n",
    "import warnings\n",
    "import matplotlib.pyplot as plt\n",
    "import numpy as np\n",
    "\n",
    "from yellowbrick.features.base import FeatureVisualizer\n",
    "from yellowbrick.exceptions import YellowbrickValueError\n",
    "from yellowbrick.utils import is_dataframe\n",
    "\n",
    "##########################################################################\n",
    "## Balanced Binning Reference\n",
    "##########################################################################\n",
    "\n",
    "class BalancedBinningReference(FeatureVisualizer):\n",
    "    \"\"\"\n",
    "    BalancedBinningReference allows to generate a histogram with vertical lines\n",
    "    showing the recommended value point to bin your data so they can be evenly\n",
    "    distributed in each bin.\n",
    "\n",
    "    Parameters\n",
    "    ----------\n",
    "    ax: matplotlib Axes, default: None\n",
    "        This is inherited from FeatureVisualizer and is defined within\n",
    "        BalancedBinningReference.\n",
    "    feature: string, default: None\n",
    "        The name of the X variable\n",
    "        If a DataFrame is passed to fit and feature is None, feature\n",
    "        is selected as the column of the DataFrame.  There must be only\n",
    "        one column in the DataFrame.\n",
    "    target: string, default: None\n",
    "        The name of the Y variable\n",
    "        If target is None and a y value is passed to fit then the target\n",
    "        is selected from the target vector.\n",
    "    size: float, default: 600\n",
    "        Size of each side of the figure in pixels\n",
    "    ratio: float, default: 5\n",
    "        Ratio of joint axis size to the x and y axes height\n",
    "    space: float, default: 0.2\n",
    "        Space between the joint axis and the x and y axes\n",
    "    kwargs : dict\n",
    "        Keyword arguments that are passed to the base class and may influence\n",
    "        the visualization as defined in other Visualizers.\n",
    "\n",
    "    Examples\n",
    "    --------\n",
    "    >>> visualizer = BalancedBinningReference()\n",
    "    >>> visualizer.fit(X)\n",
    "    >>> visualizer.poof()\n",
    "\n",
    "\n",
    "    Notes\n",
    "    -----\n",
    "    These parameters can be influenced later on in the visualization\n",
    "    process, but can and should be set as early as possible.\n",
    "    \"\"\"\n",
    "\n",
    "    def __init__(self, ax=None, feature=None, target='Counts', bins=4,\n",
    "                 x_args=None, size=600, ratio=5, space=.2, **kwargs):\n",
    "\n",
    "        super(BalancedBinningReference, self).__init__(ax, **kwargs)\n",
    "\n",
    "        self.feature = feature\n",
    "        self.target = target\n",
    "        self.bins = bins\n",
    "        self.x_args = x_args\n",
    "        self.size = (size, size)\n",
    "        self.ratio = ratio\n",
    "        self.space = space\n",
    "\n",
    "    # decide how many bins do you want for your data\n",
    "    def get_vline_value(self, X):\n",
    "        \"\"\"\n",
    "        Gets the values to draw vertical lines on histogram\n",
    "        to help balanced binning based on number of bins the\n",
    "        user wants\n",
    "        Parameters\n",
    "        ----------\n",
    "        X : ndarray or DataFrame of shape n x 1\n",
    "            A matrix of n instances with 1 feature\n",
    "        bin: number of bins the user wants, default=4\n",
    "        \"\"\"\n",
    "        # get the number of samples\n",
    "        samples, = X.shape\n",
    "\n",
    "        # get the index for retrieving values for the bins\n",
    "        index = int(round(samples/self.bins))\n",
    "\n",
    "        # sort the samples from low to high\n",
    "        sorted_X = np.sort(X)\n",
    "\n",
    "        # a list to store the values for the binning reference\n",
    "        values = []\n",
    "\n",
    "        # get the values for the binning reference\n",
    "        for i in range(0, (self.bins-1)):\n",
    "            value = sorted_X[index * (i + 1)]\n",
    "            values.append(value)\n",
    "\n",
    "        return values\n",
    "\n",
    "    def draw(self, X, **kwargs):\n",
    "        \"\"\"\n",
    "        Draws a histogram with the reference value for binning as vetical lines\n",
    "        Parameters\n",
    "        ----------\n",
    "        X : ndarray or DataFrame of shape n x 1\n",
    "            A matrix of n instances with 1 feature\n",
    "        \"\"\"\n",
    "\n",
    "        # draw the histogram\n",
    "        self.ax.hist(X, bins=50, color=\"#6897bb\", **kwargs)\n",
    "\n",
    "        # add vetical line with binning reference values\n",
    "        self.ax.vlines(self.get_vline_value(X), 0, 1, transform=self.ax.get_xaxis_transform(), colors='r')\n",
    "        print(\"The binning reference values are:\", self.get_vline_value(X))\n",
    "\n",
    "    def fit(self, X, **kwargs):\n",
    "        \"\"\"\n",
    "        Sets up X for the histogram and checks to\n",
    "        ensure that X is of the correct data type\n",
    "        Fit calls draw\n",
    "        Parameters\n",
    "        ----------\n",
    "        X : ndarray or DataFrame of shape n x 1\n",
    "            A matrix of n instances with 1 feature\n",
    "        kwargs: dict\n",
    "            keyword arguments passed to Scikit-Learn API.\n",
    "        \"\"\"\n",
    "\n",
    "        #throw an error if X has more than 1 column\n",
    "        if is_dataframe(X):\n",
    "            nrows, ncols = X.shape\n",
    "\n",
    "            if ncols > 1:\n",
    "                raise YellowbrickValueError((\n",
    "                    \"X needs to be an ndarray or DataFrame with one feature, \"\n",
    "                    \"please select one feature from the DataFrame\"\n",
    "                ))\n",
    "\n",
    "        # Handle the feature name if it is None.\n",
    "        if self.feature is None:\n",
    "\n",
    "            # If X is a data frame, get the columns off it.\n",
    "            if is_dataframe(X):\n",
    "                self.feature = X.columns\n",
    "\n",
    "            else:\n",
    "                self.feature = ['x']\n",
    "\n",
    "        self.draw(X)\n",
    "        return self\n",
    "\n",
    "\n",
    "    def poof(self, **kwargs):\n",
    "        \"\"\"\n",
    "        Creates the labels for the feature and target variables\n",
    "        \"\"\"\n",
    "\n",
    "        self.ax.set_xlabel(self.feature)\n",
    "        self.ax.set_ylabel(self.target)\n",
    "        self.finalize(**kwargs)\n",
    "\n",
    "    def finalize(self, **kwargs):\n",
    "        \"\"\"\n",
    "        Finalize executes any subclass-specific axes finalization steps.\n",
    "        The user calls poof and poof calls finalize.\n",
    "        Parameters\n",
    "        ----------\n",
    "        kwargs: generic keyword arguments.\n",
    "        \"\"\"\n",
    "\n",
    "        plt.setp(self.ax.get_xticklabels(), visible=True)\n",
    "        plt.setp(self.ax.get_yticklabels(), visible=True)\n"
   ]
  },
  {
   "cell_type": "code",
   "execution_count": 15,
   "metadata": {},
   "outputs": [],
   "source": [
    "# generate 3 set of data with norm, right-skew and left-skew distribution\n",
    "from scipy.stats import skewnorm\n",
    "norm = skewnorm.rvs(0, size=1000)\n",
    "right_skew = skewnorm.rvs(-5, size=1000)\n",
    "left_skew = skewnorm.rvs(5, size=1000)"
   ]
  },
  {
   "cell_type": "code",
   "execution_count": 16,
   "metadata": {},
   "outputs": [
    {
     "name": "stdout",
     "output_type": "stream",
     "text": [
      "The binning reference values are: [-0.6326099733459714, 0.01222456657228109, 0.6753151977252412]\n"
     ]
    },
    {
     "data": {
      "image/png": "[encoded data removed]",
      "text/plain": [
       "<matplotlib.figure.Figure at 0x1a135bcbe0>"
      ]
     },
     "metadata": {},
     "output_type": "display_data"
    }
   ],
   "source": [
    "# get the reference value for the binning point for normal distribution\n",
    "visualizer = BalancedBinningReference(feature=\"Normal distribution\")\n",
    "visualizer.fit(norm)\n",
    "visualizer.poof()"
   ]
  },
  {
   "cell_type": "code",
   "execution_count": null,
   "metadata": {},
   "outputs": [],
   "source": [
    "import numpy as np\n",
    "import matplotlib.pyplot as plt"
   ]
  },
  {
   "cell_type": "code",
   "execution_count": 64,
   "metadata": {},
   "outputs": [
    {
     "data": {
      "text/plain": [
       "<Container object of 5 artists>"
      ]
     },
     "execution_count": 64,
     "metadata": {},
     "output_type": "execute_result"
    },
    {
     "data": {
      "image/png": "[encoded data removed]",
      "text/plain": [
       "<matplotlib.figure.Figure at 0x1a134e4518>"
      ]
     },
     "metadata": {},
     "output_type": "display_data"
    }
   ],
   "source": [
    "# bin the data based on the reference\n",
    "\n",
    "bins = np.array([-4, -0.63, 0, 0.67, 4])\n",
    "inds = np.digitize(norm, bins)\n",
    "bincounts = np.bincount(inds)\n",
    "plt.bar(np.arange(5), bincounts)"
   ]
  },
  {
   "cell_type": "code",
   "execution_count": 62,
   "metadata": {},
   "outputs": [
    {
     "data": {
      "text/plain": [
       "<Container object of 5 artists>"
      ]
     },
     "execution_count": 62,
     "metadata": {},
     "output_type": "execute_result"
    },
    {
     "data": {
      "image/png": "[encoded data removed]",
      "text/plain": [
       "<matplotlib.figure.Figure at 0x1a139a9978>"
      ]
     },
     "metadata": {},
     "output_type": "display_data"
    }
   ],
   "source": [
    "# bin the data without the reference\n",
    "\n",
    "bins = np.array([-4, -2, 0, 2, 4])\n",
    "inds = np.digitize(norm, bins)\n",
    "bincounts = np.bincount(inds)\n",
    "plt.bar(np.arange(5), bincounts)"
   ]
  },
  {
   "cell_type": "code",
   "execution_count": 17,
   "metadata": {},
   "outputs": [
    {
     "name": "stdout",
     "output_type": "stream",
     "text": [
      "The binning reference values are: [-0.8809547817059689, -0.4084565099084327, 0.016196798029483355, 0.44602204781907623, 0.9782790184681378]\n"
     ]
    },
    {
     "data": {
      "image/png": "[encoded data removed]",
      "text/plain": [
       "<matplotlib.figure.Figure at 0x1a138355c0>"
      ]
     },
     "metadata": {},
     "output_type": "display_data"
    }
   ],
   "source": [
    "# use 6 bins\n",
    "visualizer = BalancedBinningReference(feature=\"Normal distribution\", bins=6)\n",
    "visualizer.fit(norm)\n",
    "visualizer.poof()"
   ]
  },
  {
   "cell_type": "code",
   "execution_count": 65,
   "metadata": {},
   "outputs": [
    {
     "data": {
      "text/plain": [
       "<Container object of 7 artists>"
      ]
     },
     "execution_count": 65,
     "metadata": {},
     "output_type": "execute_result"
    },
    {
     "data": {
      "image/png": "[encoded data removed]",
      "text/plain": [
       "<matplotlib.figure.Figure at 0x1a13841668>"
      ]
     },
     "metadata": {},
     "output_type": "display_data"
    }
   ],
   "source": [
    "# bin the data based on the reference\n",
    "\n",
    "bins = np.array([-4, -0.88, -0.4, 0, 0.45, 0.98, 4])\n",
    "inds = np.digitize(norm, bins)\n",
    "bincounts = np.bincount(inds)\n",
    "plt.bar(np.arange(7), bincounts)"
   ]
  },
  {
   "cell_type": "code",
   "execution_count": 63,
   "metadata": {},
   "outputs": [
    {
     "data": {
      "text/plain": [
       "<Container object of 7 artists>"
      ]
     },
     "execution_count": 63,
     "metadata": {},
     "output_type": "execute_result"
    },
    {
     "data": {
      "image/png": "[encoded data removed]",
      "text/plain": [
       "<matplotlib.figure.Figure at 0x1a134b8828>"
      ]
     },
     "metadata": {},
     "output_type": "display_data"
    }
   ],
   "source": [
    "# bin the data without the reference\n",
    "\n",
    "bins = np.array([-4, -3, -2, 0, 1, 2, 4])\n",
    "inds = np.digitize(norm, bins)\n",
    "bincounts = np.bincount(inds)\n",
    "plt.bar(np.arange(7), bincounts)"
   ]
  },
  {
   "cell_type": "code",
   "execution_count": 18,
   "metadata": {},
   "outputs": [
    {
     "name": "stdout",
     "output_type": "stream",
     "text": [
      "The binning reference values are: [-1.138553806516517, -0.7010117989998319, -0.2745606219570957]\n"
     ]
    },
    {
     "data": {
      "image/png": "[encoded data removed]",
      "text/plain": [
       "<matplotlib.figure.Figure at 0x1a13871128>"
      ]
     },
     "metadata": {},
     "output_type": "display_data"
    }
   ],
   "source": [
    "# get the reference value for the binning point for righ-skewed distribution\n",
    "visualizer = BalancedBinningReference(feature=\"Right-skewed distribution\")\n",
    "visualizer.fit(right_skew)\n",
    "visualizer.poof()"
   ]
  },
  {
   "cell_type": "code",
   "execution_count": 60,
   "metadata": {},
   "outputs": [
    {
     "data": {
      "text/plain": [
       "<Container object of 5 artists>"
      ]
     },
     "execution_count": 60,
     "metadata": {},
     "output_type": "execute_result"
    },
    {
     "data": {
      "image/png": "[encoded data removed]",
      "text/plain": [
       "<matplotlib.figure.Figure at 0x1a1396d278>"
      ]
     },
     "metadata": {},
     "output_type": "display_data"
    }
   ],
   "source": [
    "# bin the data based on the reference\n",
    "\n",
    "bins = np.array([-4, -1.14, -0.7, -0.27, 0.5])\n",
    "inds = np.digitize(right_skew, bins)\n",
    "bincounts = np.bincount(inds)\n",
    "plt.bar(np.arange(5), bincounts)"
   ]
  },
  {
   "cell_type": "code",
   "execution_count": 66,
   "metadata": {},
   "outputs": [
    {
     "data": {
      "text/plain": [
       "<Container object of 5 artists>"
      ]
     },
     "execution_count": 66,
     "metadata": {},
     "output_type": "execute_result"
    },
    {
     "data": {
      "image/png": "[encoded data removed]",
      "text/plain": [
       "<matplotlib.figure.Figure at 0x1a137d5710>"
      ]
     },
     "metadata": {},
     "output_type": "display_data"
    }
   ],
   "source": [
    "# bin the data without the reference\n",
    "\n",
    "bins = np.array([-4, -3, -2, -1, 0.5])\n",
    "inds = np.digitize(right_skew, bins)\n",
    "bincounts = np.bincount(inds)\n",
    "plt.bar(np.arange(5), bincounts)"
   ]
  },
  {
   "cell_type": "code",
   "execution_count": 19,
   "metadata": {},
   "outputs": [
    {
     "name": "stdout",
     "output_type": "stream",
     "text": [
      "The binning reference values are: [0.32766557777193045, 0.7048784144423138, 1.2255349029328841]\n"
     ]
    },
    {
     "data": {
      "image/png": "[encoded data removed]",
      "text/plain": [
       "<matplotlib.figure.Figure at 0x10e4a48d0>"
      ]
     },
     "metadata": {},
     "output_type": "display_data"
    }
   ],
   "source": [
    "# get the reference value for the binning point for left-skewed distribution\n",
    "visualizer = BalancedBinningReference(feature=\"Left-skewed distribution\")\n",
    "visualizer.fit(left_skew)\n",
    "visualizer.poof()"
   ]
  },
  {
   "cell_type": "code",
   "execution_count": 61,
   "metadata": {},
   "outputs": [
    {
     "data": {
      "text/plain": [
       "<Container object of 5 artists>"
      ]
     },
     "execution_count": 61,
     "metadata": {},
     "output_type": "execute_result"
    },
    {
     "data": {
      "image/png": "[encoded data removed]",
      "text/plain": [
       "<matplotlib.figure.Figure at 0x1a1396d5c0>"
      ]
     },
     "metadata": {},
     "output_type": "display_data"
    }
   ],
   "source": [
    "# bin the data based on the reference\n",
    "\n",
    "bins = np.array([-0.5, 0.32, 0.7, 1.22, 4])\n",
    "inds = np.digitize(left_skew, bins)\n",
    "bincounts = np.bincount(inds)\n",
    "plt.bar(np.arange(5), bincounts)"
   ]
  },
  {
   "cell_type": "code",
   "execution_count": 67,
   "metadata": {},
   "outputs": [
    {
     "data": {
      "text/plain": [
       "<Container object of 5 artists>"
      ]
     },
     "execution_count": 67,
     "metadata": {},
     "output_type": "execute_result"
    },
    {
     "data": {
      "image/png": "[encoded data removed]",
      "text/plain": [
       "<matplotlib.figure.Figure at 0x1a1389d940>"
      ]
     },
     "metadata": {},
     "output_type": "display_data"
    }
   ],
   "source": [
    "# bin the data without the reference\n",
    "\n",
    "bins = np.array([-0.5, 1, 2, 3, 4])\n",
    "inds = np.digitize(left_skew, bins)\n",
    "bincounts = np.bincount(inds)\n",
    "plt.bar(np.arange(5), bincounts)"
   ]
  },
  {
   "cell_type": "code",
   "execution_count": null,
   "metadata": {},
   "outputs": [],
   "source": []
  }
 ],
 "metadata": {
  "kernelspec": {
   "display_name": "Python 3",
   "language": "python",
   "name": "python3"
  },
  "language_info": {
   "codemirror_mode": {
    "name": "ipython",
    "version": 3
   },
   "file_extension": ".py",
   "mimetype": "text/x-python",
   "name": "python",
   "nbconvert_exporter": "python",
   "pygments_lexer": "ipython3",
   "version": "3.6.4"
  }
 },
 "nbformat": 4,
 "nbformat_minor": 2
}
