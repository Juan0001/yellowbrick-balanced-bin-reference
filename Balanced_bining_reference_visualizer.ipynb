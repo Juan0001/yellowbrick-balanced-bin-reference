{
 "cells": [
  {
   "cell_type": "markdown",
   "metadata": {},
   "source": [
    "# Created a visualizer to help binning balanced samples into each bin\n",
    "------\n",
    "\n",
    "## Some background\n",
    "I joined the Yellowbrick Research Labs (Srping 2018) in District Data Labs as a volunteer recently to create tutorials, walkthroughs and also trouble shooting some of the issues brought up by their uses. One of the project I participated in was initiated by [Rebecca Bilbro](https://rebeccabilbro.github.io/). She was working on dataset from [Pitchfork](https://pitchfork.com/), a music review website and trying to predict the reviewer's score on a piece of music based on the review content. You can check this link to follow her story on music review score prediction: https://rebeccabilbro.github.io/better-binning/\n",
    "\n",
    "The original scores of the music reviews are numerical, numbers between 0 and 10. Because the high dimention of the text data, she was not able to predict the floating score by using regression. So she decided to bin the scores into 4 categories (“terrible”, “okay”, “great”, and “amazing”). However, the result didn't come back ideal. She found that the unbalanced samples in each bin might be the reason the performance of the model was not as good.\n",
    "\n",
    "To solve this problem, I decided to create a visualizer to give a reference for binning balanced samples into each bin. Please see the code below for the visualizer:"
   ]
  },
  {
   "cell_type": "code",
   "execution_count": 60,
   "metadata": {},
   "outputs": [],
   "source": [
    "# yellowbrick.features.histogram\n",
    "# Implementations of histogram with vertical lines to help with balanced binning.\n",
    "#\n",
    "# Author:   Juan L. Kehoe (juanluo2008@gmail.com)\n",
    "# Created:  Tue Mar 13 19:50:54 2018 -0400\n",
    "#\n",
    "# Copyright (C) 2018 District Data Labs\n",
    "# For license information, see LICENSE.txt\n",
    "#\n",
    "# ID: histogram.py\n",
    "\n",
    "\"\"\"\n",
    "Implements histogram with vertical lines to help with balanced binning.\n",
    "\"\"\"\n",
    "\n",
    "##########################################################################\n",
    "## Imports\n",
    "##########################################################################\n",
    "import warnings\n",
    "import matplotlib.pyplot as plt\n",
    "import numpy as np\n",
    "\n",
    "from yellowbrick.features.base import FeatureVisualizer\n",
    "from yellowbrick.exceptions import YellowbrickValueError\n",
    "from yellowbrick.utils import is_dataframe\n",
    "\n",
    "##########################################################################\n",
    "## Balanced Binning Reference\n",
    "##########################################################################\n",
    "\n",
    "class BalancedBinningReference(FeatureVisualizer):\n",
    "    \"\"\"\n",
    "    BalancedBinningReference allows to generate a histogram with vertical lines\n",
    "    showing the recommended value point to bin your data so they can be evenly\n",
    "    distributed in each bin.\n",
    "\n",
    "    Parameters\n",
    "    ----------\n",
    "    ax: matplotlib Axes, default: None\n",
    "        This is inherited from FeatureVisualizer and is defined within\n",
    "        BalancedBinningReference.\n",
    "    feature: string, default: None\n",
    "        The name of the X variable\n",
    "        If a DataFrame is passed to fit and feature is None, feature\n",
    "        is selected as the column of the DataFrame.  There must be only\n",
    "        one column in the DataFrame.\n",
    "    target: string, default: None\n",
    "        The name of the Y variable\n",
    "        If target is None and a y value is passed to fit then the target\n",
    "        is selected from the target vector.\n",
    "    size: float, default: 600\n",
    "        Size of each side of the figure in pixels\n",
    "    ratio: float, default: 5\n",
    "        Ratio of joint axis size to the x and y axes height\n",
    "    space: float, default: 0.2\n",
    "        Space between the joint axis and the x and y axes\n",
    "    kwargs : dict\n",
    "        Keyword arguments that are passed to the base class and may influence\n",
    "        the visualization as defined in other Visualizers.\n",
    "\n",
    "    Examples\n",
    "    --------\n",
    "    >>> visualizer = BalancedBinningReference()\n",
    "    >>> visualizer.fit(X)\n",
    "    >>> visualizer.poof()\n",
    "\n",
    "\n",
    "    Notes\n",
    "    -----\n",
    "    These parameters can be influenced later on in the visualization\n",
    "    process, but can and should be set as early as possible.\n",
    "    \"\"\"\n",
    "\n",
    "    def __init__(self, ax=None, feature=None, target='Counts', bins=4,\n",
    "                 x_args=None, size=600, ratio=5, space=.2, **kwargs):\n",
    "\n",
    "        super(BalancedBinningReference, self).__init__(ax, **kwargs)\n",
    "\n",
    "        self.feature = feature\n",
    "        self.target = target\n",
    "        self.bins = bins\n",
    "        self.x_args = x_args\n",
    "        self.size = (size, size)\n",
    "        self.ratio = ratio\n",
    "        self.space = space\n",
    "\n",
    "    # decide how many bins do you want for your data\n",
    "    def get_vline_value(self, X):\n",
    "        \"\"\"\n",
    "        Gets the values to draw vertical lines on histogram\n",
    "        to help balanced binning based on number of bins the\n",
    "        user wants\n",
    "        Parameters\n",
    "        ----------\n",
    "        X : ndarray or DataFrame of shape n x 1\n",
    "            A matrix of n instances with 1 feature\n",
    "        bin: number of bins the user wants, default=4\n",
    "        \"\"\"\n",
    "        # get the number of samples\n",
    "        samples, = X.shape\n",
    "\n",
    "        # get the index for retrieving values for the bins\n",
    "        index = int(round(samples/self.bins))\n",
    "\n",
    "        # sort the samples from low to high\n",
    "        sorted_X = np.sort(X)\n",
    "\n",
    "        # a list to store the values for the binning reference\n",
    "        values = []\n",
    "\n",
    "        # get the values for the binning reference\n",
    "        for i in range(0, (self.bins-1)):\n",
    "            value = sorted_X[index * (i + 1)]\n",
    "            values.append(value)\n",
    "\n",
    "        return np.around(values, decimals=2)\n",
    "\n",
    "    def draw(self, X, **kwargs):\n",
    "        \"\"\"\n",
    "        Draws a histogram with the reference value for binning as vetical lines\n",
    "        Parameters\n",
    "        ----------\n",
    "        X : ndarray or DataFrame of shape n x 1\n",
    "            A matrix of n instances with 1 feature\n",
    "        \"\"\"\n",
    "\n",
    "        # draw the histogram\n",
    "        self.ax.hist(X, bins=50, color=\"#6897bb\", **kwargs)\n",
    "\n",
    "        # add vetical line with binning reference values\n",
    "        self.ax.vlines(self.get_vline_value(X), 0, 1, transform=self.ax.get_xaxis_transform(), colors='r')\n",
    "        print(\"The binning reference values are:\", self.get_vline_value(X))\n",
    "\n",
    "    def fit(self, X, **kwargs):\n",
    "        \"\"\"\n",
    "        Sets up X for the histogram and checks to\n",
    "        ensure that X is of the correct data type\n",
    "        Fit calls draw\n",
    "        Parameters\n",
    "        ----------\n",
    "        X : ndarray or DataFrame of shape n x 1\n",
    "            A matrix of n instances with 1 feature\n",
    "        kwargs: dict\n",
    "            keyword arguments passed to Scikit-Learn API.\n",
    "        \"\"\"\n",
    "\n",
    "        #throw an error if X has more than 1 column\n",
    "        if is_dataframe(X):\n",
    "            nrows, ncols = X.shape\n",
    "\n",
    "            if ncols > 1:\n",
    "                raise YellowbrickValueError((\n",
    "                    \"X needs to be an ndarray or DataFrame with one feature, \"\n",
    "                    \"please select one feature from the DataFrame\"\n",
    "                ))\n",
    "\n",
    "        # Handle the feature name if it is None.\n",
    "        if self.feature is None:\n",
    "\n",
    "            # If X is a data frame, get the columns off it.\n",
    "            if is_dataframe(X):\n",
    "                self.feature = X.columns\n",
    "\n",
    "            else:\n",
    "                self.feature = ['x']\n",
    "\n",
    "        self.draw(X)\n",
    "        return self\n",
    "\n",
    "\n",
    "    def poof(self, **kwargs):\n",
    "        \"\"\"\n",
    "        Creates the labels for the feature and target variables\n",
    "        \"\"\"\n",
    "\n",
    "        self.ax.set_xlabel(self.feature)\n",
    "        self.ax.set_ylabel(self.target)\n",
    "        self.finalize(**kwargs)\n",
    "\n",
    "    def finalize(self, **kwargs):\n",
    "        \"\"\"\n",
    "        Finalize executes any subclass-specific axes finalization steps.\n",
    "        The user calls poof and poof calls finalize.\n",
    "        Parameters\n",
    "        ----------\n",
    "        kwargs: generic keyword arguments.\n",
    "        \"\"\"\n",
    "\n",
    "        plt.setp(self.ax.get_xticklabels(), visible=True)\n",
    "        plt.setp(self.ax.get_yticklabels(), visible=True)\n"
   ]
  },
  {
   "cell_type": "markdown",
   "metadata": {},
   "source": [
    "## How to use it\n",
    "Here I will briefly show you how to use this visulizer to faciliate your binning. \n",
    "\n",
    "### First let's generate a dataset with normal distribution"
   ]
  },
  {
   "cell_type": "code",
   "execution_count": 61,
   "metadata": {},
   "outputs": [],
   "source": [
    "# import packages\n",
    "import scipy\n",
    "from scipy.stats import skewnorm\n",
    "# set random seed\n",
    "np.random.seed(100)\n",
    "# generate the normally distributed dataset\n",
    "norm = skewnorm.rvs(0, size=1000)"
   ]
  },
  {
   "cell_type": "markdown",
   "metadata": {},
   "source": [
    "### Get the reference value for the binning point for normal distribution"
   ]
  },
  {
   "cell_type": "code",
   "execution_count": 62,
   "metadata": {},
   "outputs": [
    {
     "name": "stdout",
     "output_type": "stream",
     "text": [
      "The binning reference values are: [-0.69 -0.03  0.67]\n"
     ]
    },
    {
     "data": {
      "image/png": "[encoded data removed]",
      "text/plain": [
       "<matplotlib.figure.Figure at 0x1a14933cc0>"
      ]
     },
     "metadata": {},
     "output_type": "display_data"
    }
   ],
   "source": [
    "visualizer = BalancedBinningReference(feature=\"Normal distribution\")\n",
    "visualizer.fit(norm)\n",
    "visualizer.poof()"
   ]
  },
  {
   "cell_type": "markdown",
   "metadata": {},
   "source": [
    "### Use the reference value to bin the data"
   ]
  },
  {
   "cell_type": "code",
   "execution_count": 75,
   "metadata": {},
   "outputs": [
    {
     "data": {
      "text/plain": [
       "Text(0,0.5,'Counts')"
      ]
     },
     "execution_count": 75,
     "metadata": {},
     "output_type": "execute_result"
    },
    {
     "data": {
      "image/png": "[encoded data removed]",
      "text/plain": [
       "<matplotlib.figure.Figure at 0x1a19500b70>"
      ]
     },
     "metadata": {},
     "output_type": "display_data"
    }
   ],
   "source": [
    "# bin the data based on the reference using numpy.digitize\n",
    "# set the binning point\n",
    "# you can copy the binning reference values and paste here\n",
    "bins = np.array([(norm.min()-0.1), -0.69, -0.03, 0.67, (norm.max()+0.1)]) \n",
    "inds = np.digitize(norm, bins,right=True)\n",
    "counts = np.unique(inds, return_counts=True)[1]\n",
    "\n",
    "# use matplotlib to view the binned result\n",
    "plt.bar([\"1\", \"2\", \"3\", \"4\"], counts, color=['black', 'red', 'green', 'blue'])\n",
    "plt.xlabel(\"Classes\")\n",
    "plt.ylabel(\"Counts\")"
   ]
  },
  {
   "cell_type": "markdown",
   "metadata": {},
   "source": [
    "We can see from the figure above, the amount of binned samples in each class are similar. "
   ]
  },
  {
   "cell_type": "markdown",
   "metadata": {},
   "source": [
    "### Change the binning size\n",
    "\n",
    "The default binning size is 4. You can also change it to the size you need when initializing the visualizer. Here's an example:"
   ]
  },
  {
   "cell_type": "code",
   "execution_count": 74,
   "metadata": {},
   "outputs": [
    {
     "name": "stdout",
     "output_type": "stream",
     "text": [
      "The binning reference values are: [-0.94 -0.46 -0.02  0.45  0.92]\n"
     ]
    },
    {
     "data": {
      "image/png": "[encoded data removed]",
      "text/plain": [
       "<matplotlib.figure.Figure at 0x1a19281940>"
      ]
     },
     "metadata": {},
     "output_type": "display_data"
    }
   ],
   "source": [
    "# bin the data into 6 bins\n",
    "visualizer = BalancedBinningReference(feature=\"Normal distribution\", bins=6)\n",
    "visualizer.fit(norm)\n",
    "visualizer.poof()"
   ]
  },
  {
   "cell_type": "code",
   "execution_count": 77,
   "metadata": {},
   "outputs": [
    {
     "data": {
      "text/plain": [
       "Text(0,0.5,'Counts')"
      ]
     },
     "execution_count": 77,
     "metadata": {},
     "output_type": "execute_result"
    },
    {
     "data": {
      "image/png": "[encoded data removed]",
      "text/plain": [
       "<matplotlib.figure.Figure at 0x1a197659e8>"
      ]
     },
     "metadata": {},
     "output_type": "display_data"
    }
   ],
   "source": [
    "# bin the data based on the reference\n",
    "bins = np.array([(norm.min()-0.1), -0.94, -0.46, -0.02,  0.45,  0.92, (norm.max()+0.1)]) \n",
    "inds = np.digitize(norm, bins,right=True)\n",
    "counts = np.unique(inds, return_counts=True)[1]\n",
    "\n",
    "# use matplotlib to view the binned result\n",
    "plt.bar([\"1\", \"2\", \"3\", \"4\", \"5\", \"6\"], counts, color=['black', 'red', 'green', 'blue', 'cyan', 'purple'])\n",
    "plt.xlabel(\"Classes\")\n",
    "plt.ylabel(\"Counts\")"
   ]
  },
  {
   "cell_type": "markdown",
   "metadata": {},
   "source": [
    "### Bin the data with arbitrary value\n"
   ]
  },
  {
   "cell_type": "code",
   "execution_count": 68,
   "metadata": {},
   "outputs": [
    {
     "data": {
      "text/plain": [
       "Text(0,0.5,'Counts')"
      ]
     },
     "execution_count": 68,
     "metadata": {},
     "output_type": "execute_result"
    },
    {
     "data": {
      "image/png": "[encoded data removed]",
      "text/plain": [
       "<matplotlib.figure.Figure at 0x1a1806cf60>"
      ]
     },
     "metadata": {},
     "output_type": "display_data"
    }
   ],
   "source": [
    "# bin the data without reference\n",
    "bins = np.array([-3.15, -2, 0, 2, 4.91])\n",
    "inds = np.digitize(norm, bins)\n",
    "counts = np.unique(inds, return_counts=True)[1]\n",
    "\n",
    "# use matplotlib to view the binned result\n",
    "plt.bar([\"1\", \"2\", \"3\", \"4\"], counts)\n",
    "plt.xlabel(\"Classes\")\n",
    "plt.ylabel(\"Counts\")"
   ]
  },
  {
   "cell_type": "markdown",
   "metadata": {},
   "source": [
    "As shown above, if we bin the data with a arbitrary value, let's say similar intervals between data points. The number of samples in different classes are so different."
   ]
  },
  {
   "cell_type": "markdown",
   "metadata": {},
   "source": [
    "## Use it in skewed data sets\n",
    "\n",
    "### Bin dataset with right skewness"
   ]
  },
  {
   "cell_type": "code",
   "execution_count": 69,
   "metadata": {},
   "outputs": [],
   "source": [
    "# generate data with right skewness\n",
    "right_skew = skewnorm.rvs(-5, size=1000)"
   ]
  },
  {
   "cell_type": "code",
   "execution_count": 72,
   "metadata": {},
   "outputs": [
    {
     "name": "stdout",
     "output_type": "stream",
     "text": [
      "The binning reference values are: [-1.14 -0.69 -0.33]\n"
     ]
    },
    {
     "data": {
      "image/png": "[encoded data removed]",
      "text/plain": [
       "<matplotlib.figure.Figure at 0x1a192bfb70>"
      ]
     },
     "metadata": {},
     "output_type": "display_data"
    }
   ],
   "source": [
    "# get the binning reference\n",
    "visualizer = BalancedBinningReference(feature=\"Normal distribution\")\n",
    "visualizer.fit(right_skew)\n",
    "visualizer.poof()"
   ]
  },
  {
   "cell_type": "code",
   "execution_count": 78,
   "metadata": {},
   "outputs": [
    {
     "data": {
      "text/plain": [
       "Text(0,0.5,'Counts')"
      ]
     },
     "execution_count": 78,
     "metadata": {},
     "output_type": "execute_result"
    },
    {
     "data": {
      "image/png": "[encoded data removed]",
      "text/plain": [
       "<matplotlib.figure.Figure at 0x1a197ed128>"
      ]
     },
     "metadata": {},
     "output_type": "display_data"
    }
   ],
   "source": [
    "# bin the data based on the reference \n",
    "bins = np.array([(right_skew.min()-0.1), -1.14, -0.69, -0.33, (right_skew.max()+0.1)]) \n",
    "inds = np.digitize(right_skew, bins,right=True)\n",
    "counts = np.unique(inds, return_counts=True)[1]\n",
    "\n",
    "# use matplotlib to view the binned result\n",
    "plt.bar([\"1\", \"2\", \"3\", \"4\"], counts, color=['black', 'red', 'green', 'blue'])\n",
    "plt.xlabel(\"Classes\")\n",
    "plt.ylabel(\"Counts\")"
   ]
  },
  {
   "cell_type": "markdown",
   "metadata": {},
   "source": [
    "### Bin dataset with left skewness"
   ]
  },
  {
   "cell_type": "code",
   "execution_count": 79,
   "metadata": {},
   "outputs": [
    {
     "name": "stdout",
     "output_type": "stream",
     "text": [
      "The binning reference values are: [0.33 0.69 1.15]\n"
     ]
    },
    {
     "data": {
      "image/png": "[encoded data removed]",
      "text/plain": [
       "<matplotlib.figure.Figure at 0x1a19696c18>"
      ]
     },
     "metadata": {},
     "output_type": "display_data"
    }
   ],
   "source": [
    "# generate data with left skewness\n",
    "left_skew = skewnorm.rvs(5, size=1000)\n",
    "\n",
    "# get the reference value for the binning point for left-skewed distribution\n",
    "visualizer = BalancedBinningReference(feature=\"Left-skewed distribution\")\n",
    "visualizer.fit(left_skew)\n",
    "visualizer.poof()"
   ]
  },
  {
   "cell_type": "code",
   "execution_count": 81,
   "metadata": {},
   "outputs": [
    {
     "data": {
      "text/plain": [
       "Text(0,0.5,'Counts')"
      ]
     },
     "execution_count": 81,
     "metadata": {},
     "output_type": "execute_result"
    },
    {
     "data": {
      "image/png": "[encoded data removed]",
      "text/plain": [
       "<matplotlib.figure.Figure at 0x1a192b5358>"
      ]
     },
     "metadata": {},
     "output_type": "display_data"
    }
   ],
   "source": [
    "# bin the data based on the reference \n",
    "bins = np.array([(left_skew.min()-0.1), 0.33, 0.69, 1.15, (left_skew.max()+0.1)]) \n",
    "inds = np.digitize(left_skew, bins,right=True)\n",
    "counts = np.unique(inds, return_counts=True)[1]\n",
    "\n",
    "# use matplotlib to view the binned result\n",
    "plt.bar([\"1\", \"2\", \"3\", \"4\"], counts, color=['black', 'red', 'green', 'blue'])\n",
    "plt.xlabel(\"Classes\")\n",
    "plt.ylabel(\"Counts\")"
   ]
  },
  {
   "cell_type": "markdown",
   "metadata": {},
   "source": [
    "As we can see that the visualizer did good job on data sets with skewness too. However, if the data is extremely skewed and above 0, you can think of a log transformation on the raw data so it could have better binning result."
   ]
  }
 ],
 "metadata": {
  "kernelspec": {
   "display_name": "Python 3",
   "language": "python",
   "name": "python3"
  },
  "language_info": {
   "codemirror_mode": {
    "name": "ipython",
    "version": 3
   },
   "file_extension": ".py",
   "mimetype": "text/x-python",
   "name": "python",
   "nbconvert_exporter": "python",
   "pygments_lexer": "ipython3",
   "version": "3.6.4"
  }
 },
 "nbformat": 4,
 "nbformat_minor": 2
}
